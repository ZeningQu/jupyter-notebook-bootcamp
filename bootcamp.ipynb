{
 "cells": [
  {
   "cell_type": "markdown",
   "metadata": {},
   "source": [
    "# Jupyter Notebook Bootcamp\n",
    "Zening Qu, April 7 2020"
   ]
  },
  {
   "cell_type": "markdown",
   "metadata": {},
   "source": [
    "## 1. Why Jupyter Notebook?\n",
    "\n",
    "The author can show how they came to their data analysis conclusions.\n",
    "\n",
    "The reader can reproduce the analysis.\n",
    "\n",
    "Text and links, code, plots, pictures, and videos all in one place to create an experience similar to a technical blog, but it’s interactive!\n",
    "\n",
    "👉 Caution: If not careful, a notebook can look like “a code vomit.” You don’t want your notebook to look like that!"
   ]
  },
  {
   "cell_type": "markdown",
   "metadata": {},
   "source": [
    "## 2. Install Jupyter Notebook\n",
    "https://jupyter.org/install\n",
    "\n",
    "## 3. Markdown\n",
    "\n",
    "## 4. Python\n",
    "\n",
    "## 5. Tips and tricks\n"
   ]
  },
  {
   "cell_type": "code",
   "execution_count": null,
   "metadata": {},
   "outputs": [],
   "source": []
  }
 ],
 "metadata": {
  "kernelspec": {
   "display_name": "Python 3",
   "language": "python",
   "name": "python3"
  },
  "language_info": {
   "codemirror_mode": {
    "name": "ipython",
    "version": 3
   },
   "file_extension": ".py",
   "mimetype": "text/x-python",
   "name": "python",
   "nbconvert_exporter": "python",
   "pygments_lexer": "ipython3",
   "version": "3.8.1"
  }
 },
 "nbformat": 4,
 "nbformat_minor": 4
}
